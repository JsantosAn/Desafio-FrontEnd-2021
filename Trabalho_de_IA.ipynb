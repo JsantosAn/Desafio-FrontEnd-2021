{
  "nbformat": 4,
  "nbformat_minor": 0,
  "metadata": {
    "colab": {
      "name": "Trabalho de IA.ipynb",
      "provenance": [],
      "collapsed_sections": [],
      "authorship_tag": "ABX9TyPtKm7Sv22Wb6d1esLS2Hbc",
      "include_colab_link": true
    },
    "kernelspec": {
      "name": "python3",
      "display_name": "Python 3"
    },
    "language_info": {
      "name": "python"
    }
  },
  "cells": [
    {
      "cell_type": "markdown",
      "metadata": {
        "id": "view-in-github",
        "colab_type": "text"
      },
      "source": [
        "<a href=\"https://colab.research.google.com/github/JsantosAn/Desafio-FrontEnd-2021/blob/main/Trabalho_de_IA.ipynb\" target=\"_parent\"><img src=\"https://colab.research.google.com/assets/colab-badge.svg\" alt=\"Open In Colab\"/></a>"
      ]
    },
    {
      "cell_type": "code",
      "source": [
        "cada um individuo ser uma rede neural \n",
        "função objetivo, calcula a saida dos dados e compara a diferença"
      ],
      "metadata": {
        "id": "Uyx56ukfhtAN"
      },
      "execution_count": null,
      "outputs": []
    },
    {
      "cell_type": "code",
      "source": [
        "import numpy as np\n",
        "from random import random\n",
        "import math\n",
        "\n",
        "class MLPlayer(object):\n",
        "    def __init__(self, num_inputs, num_outputs):\n",
        "        self.num_inputs = num_inputs\n",
        "        self.num_outputs = num_outputs\n",
        "        layers = [num_inputs]  + [num_outputs]\n",
        "        self.weights =  10 * np.random.random_sample((layers[0], layers[1])) - 5\n",
        "        self.bias =  10 * np.random.random_sample((layers[1])) - 5\n",
        "\n",
        "    def forward_propagate(self, inputs):\n",
        "        net_inputs = np.dot(inputs, self.weights) + self.bias\n",
        "        print(inputs.shape, self.weights.shape , self.bias.shape)\n",
        "        activations = self.TanH(net_inputs)\n",
        "        return activations\n",
        "\n",
        "    def TanH(self,x):\n",
        "        return np.tanh(x)\n",
        "\n",
        "    def _mse(self, target, output):\n",
        "        MSE = np.square(np.subtract(target,output)).mean()   \n",
        "        return math.sqrt(MSE)\n",
        "\n",
        "def MPL(camada,saida,x_teste,y_teste):\n",
        "  hidden = MLPlayer(saida, camada)\n",
        "  output = MLPlayer(camada, saida)\n",
        "  hidden_outputs = hidden.forward_propagate(x_teste)\n",
        "  y = output.forward_propagate(hidden_outputs)\n",
        "  return output._mse(y, y_teste)\n",
        "\n",
        "if __name__ == \"__main__\":\n",
        "    X = np.arange(-np.pi, np.pi, 0.2)\n",
        "    y = np.sin(X)\n",
        "    y += np.random.normal(scale=0.1, size=y.shape)\n",
        "    y_teste = y.reshape(32, 1)\n",
        "    x_teste = y.reshape(32, 1)\n",
        "    camadas = [2,4,8,16,32,64,128]\n",
        "    #for x in camadas:\n",
        "    print(MPL(128,1,x_teste,y_teste))"
      ],
      "metadata": {
        "id": "AlszMXKRO8Ji"
      },
      "execution_count": null,
      "outputs": []
    },
    {
      "cell_type": "code",
      "source": [
        ""
      ],
      "metadata": {
        "id": "Jj1epbhPQFtC"
      },
      "execution_count": null,
      "outputs": []
    },
    {
      "cell_type": "code",
      "source": [
        "import numpy as np\n",
        "from random import random\n",
        "import math\n",
        "\n",
        "class MLPlayer(object):\n",
        "    def __init__(self, peso, bias):\n",
        "        self.weights =  peso\n",
        "        self.bias =  bias\n",
        "    def forward_propagate(self, inputs):\n",
        "        net_inputs = np.dot(inputs, self.weights)# + self.bias\n",
        "        activations = self.TanH(net_inputs)\n",
        "        return activations\n",
        "    def TanH(self,x):\n",
        "        return np.tanh(x)\n",
        "    def _mse(self, target, output):\n",
        "        MSE = np.square(np.subtract(target,output)).mean()   \n",
        "        return math.sqrt(MSE)"
      ],
      "metadata": {
        "id": "OoVgtI0ube4N"
      },
      "execution_count": 191,
      "outputs": []
    },
    {
      "cell_type": "code",
      "source": [
        "X = np.arange(-np.pi, np.pi, 0.2)\n",
        "y = np.sin(X)\n",
        "y += np.random.normal(scale=0.1, size=y.shape)\n",
        "y_teste = y.reshape(32, 1)\n",
        "x_teste = y.reshape(32, 1)"
      ],
      "metadata": {
        "id": "r61HUJyhNshr"
      },
      "execution_count": 213,
      "outputs": []
    },
    {
      "cell_type": "code",
      "source": [
        "from numpy.random import randint\n",
        "from numpy.random import rand\n",
        "from random import randrange\n",
        "\n",
        "def MPL(oculta,x_teste,y_teste,pop):\n",
        "  b2 = []\n",
        "  p = np.array_split(pop,3)\n",
        "  for x in range(len(p)):\n",
        "    if (len(p[x]) > oculta):\n",
        "      r = randrange(0, len(p[x]))\n",
        "      b2 = p[x][r]\n",
        "      p[x] =  np.delete(p[x], r)  \n",
        "  p1 = p[0].reshape(1,oculta)\n",
        "  b1 = p[1]\n",
        "  p2 = p[2].reshape(oculta,1)\n",
        "  \n",
        "  hidden = MLPlayer(p1, b1)\n",
        "  output = MLPlayer(p2, b2)\n",
        "  hidden_outputs = hidden.forward_propagate(x_teste)\n",
        "  y = output.forward_propagate(hidden_outputs)\n",
        "  return output._mse(y, y_teste)\n",
        "\n",
        "def selection(pop, scores, k=3):\n",
        "  selection_ix = randint(len(pop))\n",
        "  for ix in randint(0, len(pop), k-1):\n",
        "    if scores[ix] < scores[selection_ix]:\n",
        "      selection_ix = ix\n",
        "  return pop[selection_ix]\n",
        "\n",
        "def crossover(p1, p2, r_cross):\n",
        "  c1, c2 = p1.copy(), p2.copy()\n",
        "  a = np.random.uniform (0.0, 1.0, 1)  \n",
        "  if rand() < r_cross:\n",
        "    pt = randint(1, len(p1)-2)\n",
        "    c1 = a*p1+(1-a)*p2\n",
        "    c2 =  a*p2+(1-a)*p1 \n",
        "  return [c1, c2]\n",
        "\n",
        "def mutation(bitstring, r_mut):\n",
        "  for i in range(len(bitstring)):\n",
        "    if rand() < r_mut:\n",
        "      bitstring[i] = 1 - bitstring[i]\n",
        "\n",
        "def genetic_algorithm(oculta,saida,x_teste,y_teste,objective, n_iter, n_pop, r_cross, r_mut):\n",
        "  tamanho =  oculta * 3\n",
        "  pop = [10 * np.random.random_sample((tamanho+saida, saida)) - 5 for _ in range(n_pop)]\n",
        "  best = 0\n",
        "  best_eval = objective(oculta,x_teste,y_teste,pop[0])\n",
        "  for gen in range(n_iter):\n",
        "    scores = [objective(oculta,x_teste,y_teste,c) for c in pop]\n",
        "    for i in range(n_pop):\n",
        "      if scores[i] < best_eval:\n",
        "        best, best_eval = pop[i], scores[i]\n",
        "        #print(\">%d, new best f(%s) = %.3f\" % (gen,  pop[i], scores[i]))\n",
        "    selected = [selection(pop, scores) for _ in range(n_pop)]\n",
        "    children = list()\n",
        "    for i in range(0, n_pop, 2):\n",
        "      p1, p2 = selected[i], selected[i+1]\n",
        "      for c in crossover(p1, p2, r_cross):\n",
        "        mutation(c, r_mut)\n",
        "        children.append(c)\n",
        "    pop = children\n",
        "  return [best, best_eval]\n",
        "\n",
        "n_iter = 2000\n",
        "n_pop = 50\n",
        "r_cross = 0.3\n",
        "r_mut = 1.0 \n",
        "\n",
        "best, score = genetic_algorithm(128,1,x_teste,y_teste,MPL,n_iter, n_pop, r_cross, r_mut)\n",
        "print('f(%s) = %f' % (best, score))"
      ],
      "metadata": {
        "id": "kB-lzzzjZXvX"
      },
      "execution_count": null,
      "outputs": []
    }
  ]
}